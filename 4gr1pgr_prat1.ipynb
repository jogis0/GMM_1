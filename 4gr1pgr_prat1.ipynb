{
 "nbformat": 4,
 "nbformat_minor": 0,
 "metadata": {
  "colab": {
   "provenance": [],
   "gpuType": "T4"
  },
  "kernelspec": {
   "name": "python3",
   "language": "python",
   "display_name": "Python 3 (ipykernel)"
  },
  "language_info": {
   "name": "python"
  },
  "accelerator": "GPU"
 },
 "cells": [
  {
   "cell_type": "markdown",
   "source": [
    "# Vaizdų klasifikavimas"
   ],
   "metadata": {
    "id": "m6udWt6A0Bk3"
   }
  },
  {
   "cell_type": "code",
   "execution_count": 1,
   "metadata": {
    "id": "-I3Aa8Hlz9jZ",
    "ExecuteTime": {
     "end_time": "2025-02-21T13:58:53.371996Z",
     "start_time": "2025-02-21T13:58:49.516039Z"
    }
   },
   "outputs": [],
   "source": [
    "# Reikalingi paketai\n",
    "import numpy as np\n",
    "import torch\n",
    "from torchvision import models, transforms\n",
    "from PIL import Image"
   ]
  },
  {
   "cell_type": "code",
   "source": [
    "# Patikrinama, ar yra GPU\n",
    "print(torch.cuda.is_available())\n",
    "device = torch.device('cuda') if torch.cuda.is_available() else torch.device('cpu')\n",
    "print(device)"
   ],
   "metadata": {
    "id": "-4kkajTv0I1Y",
    "colab": {
     "base_uri": "https://localhost:8080/"
    },
    "outputId": "1b1f0d4e-6661-4cd7-a3ad-3981c7f30ed5",
    "ExecuteTime": {
     "end_time": "2025-02-21T13:58:53.386997Z",
     "start_time": "2025-02-21T13:58:53.372998Z"
    }
   },
   "execution_count": 2,
   "outputs": [
    {
     "name": "stdout",
     "output_type": "stream",
     "text": [
      "False\n",
      "cpu\n"
     ]
    }
   ]
  },
  {
   "cell_type": "code",
   "source": [
    "# Modelio atsisiuntimas\n",
    "model = models.vgg16(weights = 'DEFAULT').to(device)\n",
    "print(model)"
   ],
   "metadata": {
    "id": "1EdxDz5-0PYE",
    "colab": {
     "base_uri": "https://localhost:8080/"
    },
    "outputId": "98d19d40-5733-4a89-c26d-20f174d15c76",
    "ExecuteTime": {
     "end_time": "2025-02-21T14:00:01.528767Z",
     "start_time": "2025-02-21T13:59:11.840580Z"
    }
   },
   "execution_count": 3,
   "outputs": [
    {
     "name": "stderr",
     "output_type": "stream",
     "text": [
      "Downloading: \"https://download.pytorch.org/models/vgg16-397923af.pth\" to C:\\Users\\viliu/.cache\\torch\\hub\\checkpoints\\vgg16-397923af.pth\n",
      "100%|██████████| 528M/528M [00:48<00:00, 11.5MB/s] \n"
     ]
    },
    {
     "name": "stdout",
     "output_type": "stream",
     "text": [
      "VGG(\n",
      "  (features): Sequential(\n",
      "    (0): Conv2d(3, 64, kernel_size=(3, 3), stride=(1, 1), padding=(1, 1))\n",
      "    (1): ReLU(inplace=True)\n",
      "    (2): Conv2d(64, 64, kernel_size=(3, 3), stride=(1, 1), padding=(1, 1))\n",
      "    (3): ReLU(inplace=True)\n",
      "    (4): MaxPool2d(kernel_size=2, stride=2, padding=0, dilation=1, ceil_mode=False)\n",
      "    (5): Conv2d(64, 128, kernel_size=(3, 3), stride=(1, 1), padding=(1, 1))\n",
      "    (6): ReLU(inplace=True)\n",
      "    (7): Conv2d(128, 128, kernel_size=(3, 3), stride=(1, 1), padding=(1, 1))\n",
      "    (8): ReLU(inplace=True)\n",
      "    (9): MaxPool2d(kernel_size=2, stride=2, padding=0, dilation=1, ceil_mode=False)\n",
      "    (10): Conv2d(128, 256, kernel_size=(3, 3), stride=(1, 1), padding=(1, 1))\n",
      "    (11): ReLU(inplace=True)\n",
      "    (12): Conv2d(256, 256, kernel_size=(3, 3), stride=(1, 1), padding=(1, 1))\n",
      "    (13): ReLU(inplace=True)\n",
      "    (14): Conv2d(256, 256, kernel_size=(3, 3), stride=(1, 1), padding=(1, 1))\n",
      "    (15): ReLU(inplace=True)\n",
      "    (16): MaxPool2d(kernel_size=2, stride=2, padding=0, dilation=1, ceil_mode=False)\n",
      "    (17): Conv2d(256, 512, kernel_size=(3, 3), stride=(1, 1), padding=(1, 1))\n",
      "    (18): ReLU(inplace=True)\n",
      "    (19): Conv2d(512, 512, kernel_size=(3, 3), stride=(1, 1), padding=(1, 1))\n",
      "    (20): ReLU(inplace=True)\n",
      "    (21): Conv2d(512, 512, kernel_size=(3, 3), stride=(1, 1), padding=(1, 1))\n",
      "    (22): ReLU(inplace=True)\n",
      "    (23): MaxPool2d(kernel_size=2, stride=2, padding=0, dilation=1, ceil_mode=False)\n",
      "    (24): Conv2d(512, 512, kernel_size=(3, 3), stride=(1, 1), padding=(1, 1))\n",
      "    (25): ReLU(inplace=True)\n",
      "    (26): Conv2d(512, 512, kernel_size=(3, 3), stride=(1, 1), padding=(1, 1))\n",
      "    (27): ReLU(inplace=True)\n",
      "    (28): Conv2d(512, 512, kernel_size=(3, 3), stride=(1, 1), padding=(1, 1))\n",
      "    (29): ReLU(inplace=True)\n",
      "    (30): MaxPool2d(kernel_size=2, stride=2, padding=0, dilation=1, ceil_mode=False)\n",
      "  )\n",
      "  (avgpool): AdaptiveAvgPool2d(output_size=(7, 7))\n",
      "  (classifier): Sequential(\n",
      "    (0): Linear(in_features=25088, out_features=4096, bias=True)\n",
      "    (1): ReLU(inplace=True)\n",
      "    (2): Dropout(p=0.5, inplace=False)\n",
      "    (3): Linear(in_features=4096, out_features=4096, bias=True)\n",
      "    (4): ReLU(inplace=True)\n",
      "    (5): Dropout(p=0.5, inplace=False)\n",
      "    (6): Linear(in_features=4096, out_features=1000, bias=True)\n",
      "  )\n",
      ")\n"
     ]
    }
   ]
  },
  {
   "cell_type": "code",
   "source": [
    "# Transformacijos\n",
    "transformations = transforms.Compose([\n",
    "    transforms.Resize(256),\n",
    "    transforms.CenterCrop(224),\n",
    "    transforms.ToTensor(),\n",
    "    transforms.Normalize((0.485, 0.456, 0.406), (0.229, 0.224, 0.225))\n",
    "])\n",
    "# transformations = models.VGG16_Weights.DEFAULT.transforms"
   ],
   "metadata": {
    "id": "RT_Yfwb70db6",
    "ExecuteTime": {
     "end_time": "2025-02-21T14:46:38.490862Z",
     "start_time": "2025-02-21T14:46:38.484861Z"
    }
   },
   "execution_count": 24,
   "outputs": []
  },
  {
   "cell_type": "code",
   "source": [
    "# Vaizdo nuskaitymas iš disko\n",
    "img = Image.open('data/airplane/images/0328403566220ed1.jpg')"
   ],
   "metadata": {
    "id": "CBZrP27O0l-q",
    "ExecuteTime": {
     "end_time": "2025-02-21T14:47:55.373378Z",
     "start_time": "2025-02-21T14:47:55.364383Z"
    }
   },
   "execution_count": 32,
   "outputs": []
  },
  {
   "cell_type": "code",
   "source": [
    "print(np.array(img).shape)\n",
    "print(transformations(img).unsqueeze(0).shape)"
   ],
   "metadata": {
    "colab": {
     "base_uri": "https://localhost:8080/"
    },
    "id": "x-StBRIVGU2w",
    "outputId": "b2875631-1fa4-4f96-eaa4-a469a46606ef",
    "ExecuteTime": {
     "end_time": "2025-02-21T14:47:55.891380Z",
     "start_time": "2025-02-21T14:47:55.878381Z"
    }
   },
   "execution_count": 33,
   "outputs": [
    {
     "name": "stdout",
     "output_type": "stream",
     "text": [
      "(683, 1024, 3)\n",
      "torch.Size([1, 3, 224, 224])\n"
     ]
    }
   ]
  },
  {
   "cell_type": "code",
   "source": [
    "# Modelio paleidimas\n",
    "output = model(transformations(img).unsqueeze(0).to(device))\n",
    "print(output.shape)\n",
    "print(torch.argmax(output))\n",
    "print(output[0, 245:251])"
   ],
   "metadata": {
    "id": "pcL7sq1d0ons",
    "colab": {
     "base_uri": "https://localhost:8080/"
    },
    "outputId": "38448e5a-ad37-49bd-aaa6-ccb946f9fcb4",
    "ExecuteTime": {
     "end_time": "2025-02-21T14:47:56.422379Z",
     "start_time": "2025-02-21T14:47:56.239381Z"
    }
   },
   "execution_count": 34,
   "outputs": [
    {
     "name": "stdout",
     "output_type": "stream",
     "text": [
      "torch.Size([1, 1000])\n",
      "tensor(404)\n",
      "tensor([ 0.2490, -4.9758, -0.2689, -2.2052, -1.9475, -2.3001],\n",
      "       grad_fn=<SliceBackward0>)\n"
     ]
    }
   ]
  },
  {
   "cell_type": "code",
   "source": [
    "!wget https://mif.vu.lt/~mif28413/gmm/imagenet_classes.txt"
   ],
   "metadata": {
    "colab": {
     "base_uri": "https://localhost:8080/"
    },
    "id": "JorrqEyDHhM-",
    "outputId": "04f9f51b-6fbe-41b9-8c94-120466891500",
    "ExecuteTime": {
     "end_time": "2025-02-21T14:46:59.677858Z",
     "start_time": "2025-02-21T14:46:59.557862Z"
    }
   },
   "execution_count": 30,
   "outputs": [
    {
     "name": "stderr",
     "output_type": "stream",
     "text": [
      "--2025-02-21 16:46:59--  https://mif.vu.lt/~mif28413/gmm/imagenet_classes.txt\n",
      "Resolving mif.vu.lt (mif.vu.lt)... 193.219.42.2\n",
      "Connecting to mif.vu.lt (mif.vu.lt)|193.219.42.2|:443... connected.\n",
      "HTTP request sent, awaiting response... 302 Found\n",
      "Location: https://klevas.mif.vu.lt/~mif28413/gmm/imagenet_classes.txt [following]\n",
      "--2025-02-21 16:46:59--  https://klevas.mif.vu.lt/~mif28413/gmm/imagenet_classes.txt\n",
      "Resolving klevas.mif.vu.lt (klevas.mif.vu.lt)... 193.219.42.12\n",
      "Connecting to klevas.mif.vu.lt (klevas.mif.vu.lt)|193.219.42.12|:443... connected.\n",
      "HTTP request sent, awaiting response... 200 OK\n",
      "Length: 21675 (21K) [text/plain]\n",
      "Saving to: 'imagenet_classes.txt.3'\n",
      "\n",
      "     0K .......... .......... .                               100% 9,79M=0,002s\n",
      "\n",
      "2025-02-21 16:46:59 (9,79 MB/s) - 'imagenet_classes.txt.3' saved [21675/21675]\n",
      "\n"
     ]
    }
   ]
  },
  {
   "cell_type": "code",
   "source": [
    "# Žmogui suprantama klasė\n",
    "with open('imagenet_classes.txt', 'r') as fid:\n",
    "  class_names = fid.readlines()\n",
    "print(class_names[torch.argmax(output)])"
   ],
   "metadata": {
    "id": "kOoXhLS00sOd",
    "colab": {
     "base_uri": "https://localhost:8080/"
    },
    "outputId": "7965f882-2cf8-49af-cb85-9535683689df",
    "ExecuteTime": {
     "end_time": "2025-02-21T14:47:57.873379Z",
     "start_time": "2025-02-21T14:47:57.858382Z"
    }
   },
   "execution_count": 35,
   "outputs": [
    {
     "name": "stdout",
     "output_type": "stream",
     "text": [
      "airliner\n"
     ]
    }
   ]
  },
  {
   "cell_type": "code",
   "source": [
    "# CPU vs GPU"
   ],
   "metadata": {
    "id": "oKbRax6y0vbk"
   },
   "execution_count": null,
   "outputs": []
  }
 ]
}
