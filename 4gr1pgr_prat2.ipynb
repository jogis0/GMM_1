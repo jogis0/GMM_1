{
  "nbformat": 4,
  "nbformat_minor": 0,
  "metadata": {
    "colab": {
      "provenance": []
    },
    "kernelspec": {
      "name": "python3",
      "display_name": "Python 3"
    },
    "language_info": {
      "name": "python"
    }
  },
  "cells": [
    {
      "cell_type": "code",
      "execution_count": null,
      "metadata": {
        "id": "JowGbPfILAHp"
      },
      "outputs": [],
      "source": [
        "import numpy as np"
      ]
    },
    {
      "cell_type": "markdown",
      "source": [
        "# Duomenų generavimas"
      ],
      "metadata": {
        "id": "tlYlgXZzLJku"
      }
    },
    {
      "cell_type": "code",
      "source": [
        "N = 1000\n",
        "ground_truth = np.random.choice([0, 1], N).astype(np.float32)\n",
        "print(ground_truth[:10])\n",
        "predictions = 0.3 + ground_truth * 0.2 + np.random.randn(N) * 0.2\n",
        "print(predictions[:10])"
      ],
      "metadata": {
        "colab": {
          "base_uri": "https://localhost:8080/"
        },
        "id": "4KVVvZEa7nrk",
        "outputId": "024236bb-d06e-42e9-e776-1bb3a466cef6"
      },
      "execution_count": null,
      "outputs": [
        {
          "output_type": "stream",
          "name": "stdout",
          "text": [
            "[0. 1. 0. 1. 0. 0. 0. 0. 1. 1.]\n",
            "[0.40253007 0.17795392 0.364757   0.81599391 0.35036287 0.30225001\n",
            " 0.58735015 0.03942094 0.36603141 0.41761278]\n"
          ]
        }
      ]
    },
    {
      "cell_type": "markdown",
      "source": [
        "# Modelio vertinimo metrikos\n",
        "\n",
        "Iš pradžių reikia paskaičiuoti TP, TN, FP, FN. Tada galima skaičiuoti tikslumą (_accuracy_), atkūrimą (_recall_), preciziškumą (_precision_), F1.\n",
        "\n",
        "$Accuracy = \\frac{TP + TN}{TP + FP + TN + FN}$\n",
        "\n",
        "$Recall = \\frac{TP}{TP + FN}$\n",
        "\n",
        "$Precision = \\frac{TP}{TP + FP}$\n",
        "\n",
        "$F_1 = 2 \\cdot \\frac{Precision \\cdot Recall}{Precision + Recall}$"
      ],
      "metadata": {
        "id": "Jwq5WsHgLOlZ"
      }
    },
    {
      "cell_type": "code",
      "source": [
        "def calculate_metrics(ground_truth, predictions, threshold = 0.5):\n",
        "  predictions_bin = (predictions > threshold).astype(np.float32)\n",
        "\n",
        "  tp = np.sum(np.bitwise_and(predictions_bin == 1, ground_truth == 1))\n",
        "  fp = np.sum(np.bitwise_and(predictions_bin == 1, ground_truth == 0))\n",
        "  tn = np.sum(np.bitwise_and(predictions_bin == 0, ground_truth == 0))\n",
        "  fn = np.sum(np.bitwise_and(predictions_bin == 0, ground_truth == 1))\n",
        "\n",
        "  accuracy = (tp + tn) / (tp + tn + fp + fn)\n",
        "  # accuracy = np.sum(predictions_bin == ground_truth) / len(ground_truth)\n",
        "  recall = tp / (tp + fn)\n",
        "  precision = tp / (tp + fp)\n",
        "  f1 = 2 * (recall * precision) / (recall + precision)\n",
        "\n",
        "  return {\n",
        "      'accuracy': accuracy,\n",
        "      'recall': recall,\n",
        "      'precision': precision,\n",
        "      'f1': f1\n",
        "  }"
      ],
      "metadata": {
        "id": "SQ6OcLBMLTrw"
      },
      "execution_count": null,
      "outputs": []
    },
    {
      "cell_type": "code",
      "source": [
        "from pprint import pprint\n",
        "metrics = calculate_metrics(ground_truth, predictions)\n",
        "pprint(metrics)"
      ],
      "metadata": {
        "colab": {
          "base_uri": "https://localhost:8080/"
        },
        "id": "VTpijRBj_-tH",
        "outputId": "c1c4cc47-189f-4f7f-9371-1aed28dbb4eb"
      },
      "execution_count": null,
      "outputs": [
        {
          "output_type": "stream",
          "name": "stdout",
          "text": [
            "{'accuracy': 0.686,\n",
            " 'f1': 0.6252983293556086,\n",
            " 'precision': 0.7751479289940828,\n",
            " 'recall': 0.524}\n"
          ]
        }
      ]
    },
    {
      "cell_type": "code",
      "source": [
        "import matplotlib.pyplot as plt\n",
        "\n",
        "precisions = []\n",
        "recalls = []\n",
        "for thr in np.linspace(0, 1, 1000):\n",
        "  metrics = calculate_metrics(ground_truth, predictions, thr)\n",
        "  recalls.append(metrics['recall'])\n",
        "  precisions.append(metrics['precision'])\n",
        "\n",
        "plt.plot(recalls, precisions)\n",
        "plt.xlabel('Recall')\n",
        "plt.ylabel('Precision')\n",
        "plt.show()"
      ],
      "metadata": {
        "colab": {
          "base_uri": "https://localhost:8080/",
          "height": 449
        },
        "id": "8WzEgOpEBoNN",
        "outputId": "6ac83f12-f951-42ab-df62-cb20a52e24d1"
      },
      "execution_count": null,
      "outputs": [
        {
          "output_type": "display_data",
          "data": {
            "text/plain": [
              "<Figure size 640x480 with 1 Axes>"
            ],
            "image/png": "[encoded data removed]"
          },
          "metadata": {}
        }
      ]
    }
  ]
}