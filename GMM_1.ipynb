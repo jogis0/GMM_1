{
  "nbformat": 4,
  "nbformat_minor": 0,
  "metadata": {
    "colab": {
      "provenance": [],
      "gpuType": "T4",
      "authorship_tag": "ABX9TyNoqylWgLz7MGg49hWPcW1y",
      "include_colab_link": true
    },
    "kernelspec": {
      "name": "python3",
      "display_name": "Python 3"
    },
    "language_info": {
      "name": "python"
    },
    "accelerator": "GPU"
  },
  "cells": [
    {
      "cell_type": "markdown",
      "metadata": {
        "id": "view-in-github",
        "colab_type": "text"
      },
      "source": [
        "<a href=\"https://colab.research.google.com/github/jogis0/GMM_1/blob/master/GMM_1.ipynb\" target=\"_parent\"><img src=\"https://colab.research.google.com/assets/colab-badge.svg\" alt=\"Open In Colab\"/></a>"
      ]
    },
    {
      "cell_type": "code",
      "execution_count": null,
      "metadata": {
        "id": "KtQzDqDiHYek"
      },
      "outputs": [],
      "source": [
        "pip install openimages"
      ]
    },
    {
      "cell_type": "code",
      "source": [
        "import os\n",
        "from openimages.download import download_dataset\n",
        "data_dir = \"data\"\n",
        "number_for_samples = 30\n",
        "classes = [\"Car\", \"Airplane\", \"Motorcycle\"]\n",
        "if not os.path.exists(data_dir):\n",
        "    os.makedirs(data_dir)\n",
        "download_dataset(data_dir, classes, limit=number_for_samples)"
      ],
      "metadata": {
        "id": "BhNSxyI1fdVJ"
      },
      "execution_count": null,
      "outputs": []
    },
    {
      "cell_type": "code",
      "source": [
        "!wget https://mif.vu.lt/~mif28413/gmm/imagenet_classes.txt"
      ],
      "metadata": {
        "id": "mIpG-da3NTIM"
      },
      "execution_count": null,
      "outputs": []
    },
    {
      "cell_type": "code",
      "source": [
        "import torch\n",
        "from torchvision import models, transforms, datasets\n",
        "import numpy as np\n",
        "from sklearn.metrics import accuracy_score, recall_score, precision_score, f1_score\n",
        "\n",
        "transformations = transforms.Compose([\n",
        "    transforms.Resize(256),\n",
        "    transforms.CenterCrop(224),\n",
        "    transforms.ToTensor(),\n",
        "    transforms.Normalize((0.485, 0.456, 0.406), (0.229, 0.224, 0.225))\n",
        "])\n",
        "\n",
        "dataset = datasets.ImageFolder(root='./data', transform=transformations)\n",
        "data_loader = torch.utils.data.DataLoader(dataset, batch_size=64, shuffle=True)\n",
        "\n",
        "device = torch.device('cuda') if torch.cuda.is_available() else torch.device('cpu')\n",
        "model = models.vgg16(weights='DEFAULT').to(device)\n",
        "model.eval()\n",
        "\n",
        "imagenet_classes = open(\"imagenet_classes.txt\").read().splitlines()\n",
        "\n",
        "label_map = {\n",
        "    'car': [436, 468, 511, 661, 609, 627, 656, 675, 717, 734, 751, 817, 864, 555, 581],\n",
        "    'airplane': [403, 404, 895, 908],\n",
        "    'motorcycle': [665, 670, 671]\n",
        "}\n",
        "\n",
        "thresholds = {\n",
        "    'car': 0.5,\n",
        "    'airplane': 0.5,\n",
        "    'motorcycle': 0.5\n",
        "}\n",
        "\n",
        "ground_truths = []\n",
        "predictions = []\n",
        "\n",
        "with torch.no_grad():\n",
        "    for images, labels in data_loader:\n",
        "        images = images.to(device)\n",
        "\n",
        "        outputs = model(images)\n",
        "        probabilities = torch.nn.functional.softmax(outputs, dim=1)\n",
        "\n",
        "        for idx, probs in enumerate(probabilities):\n",
        "            predicted_label = \"Unknown\"\n",
        "            max_prob = 0\n",
        "            true_label = dataset.classes[labels[idx]]\n",
        "            # print(f\"--Image {idx}: True label - {true_label}--\")\n",
        "            for category, indices in label_map.items():\n",
        "                category_prob = sum(probs[i] for i in indices)\n",
        "\n",
        "                if category_prob > thresholds[category] and category_prob > max_prob:\n",
        "                    predicted_label = category\n",
        "                    max_prob = category_prob\n",
        "                # print(f\"Category: {category}, Probability: {category_prob}\")\n",
        "\n",
        "            ground_truths.append(true_label)\n",
        "            predictions.append(predicted_label)\n",
        "            # print(f\"Predicted label: {predicted_label}\")\n",
        "\n",
        "ground_truths = np.array(ground_truths)\n",
        "predictions = np.array(predictions)\n",
        "\n",
        "lab = ['car', 'airplane', 'motorcycle']\n",
        "accuracy = accuracy_score(ground_truths, predictions)\n",
        "recall = recall_score(ground_truths, predictions, average=None, labels=lab)\n",
        "precision = precision_score(ground_truths, predictions, average=None, labels=lab)\n",
        "f1 = f1_score(ground_truths, predictions, average=None, labels=lab)\n",
        "\n",
        "print(f\"Accuracy: {accuracy}\")\n",
        "print(f\"Recall - car: {recall[0]:.2f}, airplane {recall[1]:.2f}, motorcycle {recall[2]:.2f}\")\n",
        "print(f\"Precision - car: {precision[0]:.2f}, airplane {precision[1]:.2f}, motorcycle {precision[2]:.2f}\")\n",
        "print(f\"F1 score - car: {f1[0]:.2f}, airplane {f1[1]}, motorcycle {f1[2]:.2f}\")"
      ],
      "metadata": {
        "id": "Kw-45Wd4fT92"
      },
      "execution_count": null,
      "outputs": []
    }
  ]
}